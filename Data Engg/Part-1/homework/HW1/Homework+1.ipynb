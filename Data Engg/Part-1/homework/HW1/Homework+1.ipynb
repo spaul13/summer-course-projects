{
 "cells": [
  {
   "cell_type": "markdown",
   "metadata": {
    "deletable": false,
    "editable": false,
    "nbgrader": {
     "grade": false,
     "locked": true,
     "solution": false
    }
   },
   "source": [
    "# Homework 1"
   ]
  },
  {
   "cell_type": "markdown",
   "metadata": {
    "deletable": false,
    "editable": false,
    "nbgrader": {
     "grade": false,
     "locked": true,
     "solution": false
    }
   },
   "source": [
    "## Q1"
   ]
  },
  {
   "cell_type": "code",
   "execution_count": 1,
   "metadata": {},
   "outputs": [
    {
     "name": "stdout",
     "output_type": "stream",
     "text": [
      "17\n"
     ]
    }
   ],
   "source": [
    "# Write a function to sum all the values in a dictionary.\n",
    "\n",
    "# sumValues(dictionary) takes as input a dictionary (with integer values), and returns the sum of the  \n",
    "# values for all keys in the dictionary!\n",
    "#\n",
    "\n",
    "\n",
    "def sumValues(dictionary):\n",
    "    return sum(dictionary.values())\n",
    " \n",
    "# Example: \n",
    "print( sumValues({\"a\" : 7, \"b\" : 10}) ) # outputs 17"
   ]
  },
  {
   "cell_type": "code",
   "execution_count": null,
   "metadata": {
    "collapsed": true,
    "deletable": false,
    "editable": false,
    "nbgrader": {
     "grade": true,
     "grade_id": "Q1:Sum-0",
     "locked": true,
     "points": "1",
     "solution": false
    }
   },
   "outputs": [],
   "source": [
    "###\n",
    "### AUTOGRADER TEST - DO NOT REMOVE\n",
    "###\n"
   ]
  },
  {
   "cell_type": "code",
   "execution_count": null,
   "metadata": {
    "collapsed": true,
    "deletable": false,
    "editable": false,
    "nbgrader": {
     "grade": true,
     "grade_id": "Q1:Sum1",
     "locked": true,
     "points": "1",
     "solution": false
    }
   },
   "outputs": [],
   "source": [
    "###\n",
    "### AUTOGRADER TEST - DO NOT REMOVE\n",
    "###\n"
   ]
  },
  {
   "cell_type": "code",
   "execution_count": null,
   "metadata": {
    "collapsed": true,
    "deletable": false,
    "editable": false,
    "nbgrader": {
     "grade": true,
     "grade_id": "Q1:Sum2",
     "locked": true,
     "points": "1",
     "solution": false
    }
   },
   "outputs": [],
   "source": [
    "###\n",
    "### AUTOGRADER TEST - DO NOT REMOVE\n",
    "###\n"
   ]
  },
  {
   "cell_type": "markdown",
   "metadata": {
    "deletable": false,
    "editable": false,
    "nbgrader": {
     "grade": false,
     "locked": true,
     "solution": false
    }
   },
   "source": [
    "## Q2"
   ]
  },
  {
   "cell_type": "code",
   "execution_count": 16,
   "metadata": {
    "nbgrader": {
     "grade": false,
     "locked": false,
     "solution": false
    }
   },
   "outputs": [
    {
     "name": "stdout",
     "output_type": "stream",
     "text": [
      "b\n"
     ]
    }
   ],
   "source": [
    "# Write a function to find the key corresponding to the maximum value in a dictionary. \n",
    "\n",
    "# maxValue(dictionary) takes as input a dictionary (with integer values), and returns the key \n",
    "# associated with the maximum value in the dictionary. \n",
    "#\n",
    "\n",
    "\n",
    "def maxValue(dictionary):\n",
    "    valList = list(dictionary.values())\n",
    "    keyList = list(dictionary.keys())\n",
    "    maxVal = max(valList)\n",
    "    return keyList[valList.index(maxVal)]\n",
    "\n",
    "# Example: \n",
    "print( maxValue({\"a\" : 7, \"b\" : 10}) ) # outputs b"
   ]
  },
  {
   "cell_type": "code",
   "execution_count": null,
   "metadata": {
    "collapsed": true,
    "deletable": false,
    "editable": false,
    "nbgrader": {
     "grade": true,
     "grade_id": "Q2:Max0",
     "locked": true,
     "points": "1",
     "solution": false
    }
   },
   "outputs": [],
   "source": [
    "###\n",
    "### AUTOGRADER TEST - DO NOT REMOVE\n",
    "###\n"
   ]
  },
  {
   "cell_type": "code",
   "execution_count": null,
   "metadata": {
    "collapsed": true,
    "deletable": false,
    "editable": false,
    "nbgrader": {
     "grade": true,
     "grade_id": "Q2:Max1",
     "locked": true,
     "points": "1",
     "solution": false
    }
   },
   "outputs": [],
   "source": [
    "###\n",
    "### AUTOGRADER TEST - DO NOT REMOVE\n",
    "###\n"
   ]
  },
  {
   "cell_type": "code",
   "execution_count": null,
   "metadata": {
    "collapsed": true,
    "deletable": false,
    "editable": false,
    "nbgrader": {
     "grade": true,
     "grade_id": "Q2:Max2",
     "locked": true,
     "points": "1",
     "solution": false
    }
   },
   "outputs": [],
   "source": [
    "###\n",
    "### AUTOGRADER TEST - DO NOT REMOVE\n",
    "###\n"
   ]
  },
  {
   "cell_type": "markdown",
   "metadata": {
    "deletable": false,
    "editable": false,
    "nbgrader": {
     "grade": false,
     "locked": true,
     "solution": false
    }
   },
   "source": [
    "## Q3"
   ]
  },
  {
   "cell_type": "code",
   "execution_count": 3,
   "metadata": {},
   "outputs": [
    {
     "name": "stdout",
     "output_type": "stream",
     "text": [
      "3\n"
     ]
    }
   ],
   "source": [
    "# Write a function to find the number of unique elements in a list of integers and characters. \n",
    "\n",
    "# numberOfUniqueElements(listOfElements) takes as input a list, and returns the number of unique \n",
    "# elements in the list. \n",
    "#\n",
    "\n",
    "\n",
    "def numberOfUniqueElements(listOfElements):\n",
    "    return len(set(listOfElements))#set() only allows unique elements\n",
    "\n",
    "# Example: \n",
    "print( numberOfUniqueElements([1,2,2,'c']) ) # outputs 3 "
   ]
  },
  {
   "cell_type": "code",
   "execution_count": null,
   "metadata": {
    "collapsed": true,
    "deletable": false,
    "editable": false,
    "nbgrader": {
     "grade": true,
     "grade_id": "Q3:Unique0",
     "locked": true,
     "points": "1",
     "solution": false
    }
   },
   "outputs": [],
   "source": [
    "###\n",
    "### AUTOGRADER TEST - DO NOT REMOVE\n",
    "###\n"
   ]
  },
  {
   "cell_type": "code",
   "execution_count": null,
   "metadata": {
    "collapsed": true,
    "deletable": false,
    "editable": false,
    "nbgrader": {
     "grade": true,
     "grade_id": "Q3:Unique1",
     "locked": true,
     "points": "1",
     "solution": false
    }
   },
   "outputs": [],
   "source": [
    "###\n",
    "### AUTOGRADER TEST - DO NOT REMOVE\n",
    "###\n"
   ]
  },
  {
   "cell_type": "code",
   "execution_count": null,
   "metadata": {
    "collapsed": true,
    "deletable": false,
    "editable": false,
    "nbgrader": {
     "grade": true,
     "grade_id": "Q3:Unique2",
     "locked": true,
     "points": "1",
     "solution": false
    }
   },
   "outputs": [],
   "source": [
    "###\n",
    "### AUTOGRADER TEST - DO NOT REMOVE\n",
    "###\n"
   ]
  },
  {
   "cell_type": "markdown",
   "metadata": {
    "deletable": false,
    "editable": false,
    "nbgrader": {
     "grade": false,
     "locked": true,
     "solution": false
    }
   },
   "source": [
    "## Q4 "
   ]
  },
  {
   "cell_type": "code",
   "execution_count": 4,
   "metadata": {},
   "outputs": [
    {
     "name": "stdout",
     "output_type": "stream",
     "text": [
      "4\n"
     ]
    }
   ],
   "source": [
    "# Write a function that splits a given sentence into words and counts the number of words. The \n",
    "# sentence consists of alphanumeric characters, and the words are separated by spaces. You should \n",
    "# use the split() function in python to split a string. \n",
    "\n",
    "# For all the questions, assume that the words are separated by whitespace character, unless \n",
    "# specified otherwise.\n",
    "\n",
    "# splitStringCount(string) takes as input a sentence, splits the string into words and returns a \n",
    "# count of the number words obtained\n",
    "\n",
    "\n",
    "def splitStringCount(string):\n",
    "    return len(string.split())\n",
    "\n",
    "\n",
    "# Example: \n",
    "print( splitStringCount('The train was late') ) # outputs 4"
   ]
  },
  {
   "cell_type": "code",
   "execution_count": null,
   "metadata": {
    "collapsed": true,
    "deletable": false,
    "editable": false,
    "nbgrader": {
     "grade": true,
     "grade_id": "Q4:SplitString0",
     "locked": true,
     "points": "1",
     "solution": false
    }
   },
   "outputs": [],
   "source": [
    "###\n",
    "### AUTOGRADER TEST - DO NOT REMOVE\n",
    "###\n"
   ]
  },
  {
   "cell_type": "code",
   "execution_count": null,
   "metadata": {
    "collapsed": true,
    "deletable": false,
    "editable": false,
    "nbgrader": {
     "grade": true,
     "grade_id": "Q4:SplitString1",
     "locked": true,
     "points": "1",
     "solution": false
    }
   },
   "outputs": [],
   "source": [
    "###\n",
    "### AUTOGRADER TEST - DO NOT REMOVE\n",
    "###\n"
   ]
  },
  {
   "cell_type": "code",
   "execution_count": null,
   "metadata": {
    "collapsed": true,
    "deletable": false,
    "editable": false,
    "nbgrader": {
     "grade": true,
     "grade_id": "Q4:SplitString2",
     "locked": true,
     "points": "1",
     "solution": false
    }
   },
   "outputs": [],
   "source": [
    "###\n",
    "### AUTOGRADER TEST - DO NOT REMOVE\n",
    "###\n"
   ]
  },
  {
   "cell_type": "markdown",
   "metadata": {
    "collapsed": true,
    "deletable": false,
    "editable": false,
    "nbgrader": {
     "grade": false,
     "locked": true,
     "solution": false
    }
   },
   "source": [
    "## Q5"
   ]
  },
  {
   "cell_type": "code",
   "execution_count": 5,
   "metadata": {
    "nbgrader": {
     "grade": false,
     "locked": false,
     "solution": false
    }
   },
   "outputs": [
    {
     "name": "stdout",
     "output_type": "stream",
     "text": [
      "False\n",
      "True\n",
      "True\n"
     ]
    }
   ],
   "source": [
    "# Write a function to check if a string is a palindrome. \n",
    "\n",
    "# isPalindrome(string) takes as input a string, and returns a boolean value indicating whether the \n",
    "# input string is a palindrome or not. The output should be case insensitive. Also, empty strings \n",
    "# are not considered as palindromes. \n",
    "#\n",
    "# Example: \n",
    "#   print( isPalindrome(\"banana\") ) # outputs False\n",
    "#   print( isPalindrome(\"madam\") )  # outputs True\n",
    "#   print( isPalindrome(\"Anna\") )   # outputs True\n",
    "\n",
    "def isPalindrome(string):\n",
    "    rev_string = string.lower()[::-1]\n",
    "    return string.lower() == rev_string\n",
    "\n",
    "# Example: \n",
    "print( isPalindrome(\"banana\") ) # outputs False\n",
    "print( isPalindrome(\"madam\") )  # outputs True\n",
    "print( isPalindrome(\"Anna\") )   # outputs True"
   ]
  },
  {
   "cell_type": "code",
   "execution_count": null,
   "metadata": {
    "collapsed": true,
    "deletable": false,
    "editable": false,
    "nbgrader": {
     "grade": true,
     "grade_id": "Q5:Palindrome0",
     "locked": true,
     "points": "0.5",
     "solution": false
    }
   },
   "outputs": [],
   "source": [
    "# Code to test Palindrome. \n",
    "    \n",
    "###\n",
    "### AUTOGRADER TEST - DO NOT REMOVE\n",
    "###\n"
   ]
  },
  {
   "cell_type": "code",
   "execution_count": null,
   "metadata": {
    "collapsed": true,
    "deletable": false,
    "editable": false,
    "nbgrader": {
     "grade": true,
     "grade_id": "Q5:Palindrome1",
     "locked": true,
     "points": "0.5",
     "solution": false
    }
   },
   "outputs": [],
   "source": [
    "# Code to test Palindrome. \n",
    "    \n",
    "###\n",
    "### AUTOGRADER TEST - DO NOT REMOVE\n",
    "###\n"
   ]
  },
  {
   "cell_type": "code",
   "execution_count": null,
   "metadata": {
    "collapsed": true,
    "deletable": false,
    "editable": false,
    "nbgrader": {
     "grade": true,
     "grade_id": "Q5:Palindrome2",
     "locked": true,
     "points": "0.5",
     "solution": false
    }
   },
   "outputs": [],
   "source": [
    "# Code to test Palindrome. \n",
    "    \n",
    "###\n",
    "### AUTOGRADER TEST - DO NOT REMOVE\n",
    "###\n"
   ]
  },
  {
   "cell_type": "code",
   "execution_count": null,
   "metadata": {
    "collapsed": true,
    "deletable": false,
    "editable": false,
    "nbgrader": {
     "grade": true,
     "grade_id": "Q5:Palindrome3",
     "locked": true,
     "points": "0.5",
     "solution": false
    }
   },
   "outputs": [],
   "source": [
    "# Code to test Palindrome\n",
    "# case insensitive\n",
    "\n",
    "###\n",
    "### AUTOGRADER TEST - DO NOT REMOVE\n",
    "###\n"
   ]
  },
  {
   "cell_type": "code",
   "execution_count": null,
   "metadata": {
    "collapsed": true,
    "deletable": false,
    "editable": false,
    "nbgrader": {
     "grade": true,
     "grade_id": "Q5:Palindrome4",
     "locked": true,
     "points": "0.5",
     "solution": false
    }
   },
   "outputs": [],
   "source": [
    "# Code to test Palindrome. \n",
    "\n",
    "###\n",
    "### AUTOGRADER TEST - DO NOT REMOVE\n",
    "###\n"
   ]
  },
  {
   "cell_type": "code",
   "execution_count": null,
   "metadata": {
    "collapsed": true,
    "deletable": false,
    "editable": false,
    "nbgrader": {
     "grade": true,
     "grade_id": "Q6:Palindrome5",
     "locked": true,
     "points": ".5",
     "solution": false
    }
   },
   "outputs": [],
   "source": [
    "# Code to test Palindrome. \n",
    "\n",
    "###\n",
    "### AUTOGRADER TEST - DO NOT REMOVE\n",
    "###\n"
   ]
  },
  {
   "cell_type": "markdown",
   "metadata": {
    "deletable": false,
    "editable": false,
    "nbgrader": {
     "grade": false,
     "locked": true,
     "solution": false
    }
   },
   "source": [
    "## Q6"
   ]
  },
  {
   "cell_type": "code",
   "execution_count": 23,
   "metadata": {},
   "outputs": [
    {
     "name": "stdout",
     "output_type": "stream",
     "text": [
      "['madam', 'anna']\n",
      "[]\n"
     ]
    }
   ],
   "source": [
    "# Write a function to find the unique palindromes in a given string.\n",
    "\n",
    "# uniquePalindromes(string) takes as input a string delimited by whitespace characters, and returns \n",
    "# a list of unique palindromes in the string. You should convert the given string to lowercase. The \n",
    "# output list must be sorted in decreasing lexicographic order (reverse sorted order). You should \n",
    "# return an empty list if the string doesn't contain any palindrome words. You can use your above \n",
    "# defined function 'isPalindrome' to check if a word is palindrome or not. \n",
    "\n",
    "#\n",
    "# Example: \n",
    "#   print( uniquePalindromes('Madam asked Anna to go out but Anna refused') ) # outputs ['madam', 'anna']\n",
    "#   print( uniquePalindromes('Palindromes are also found in numbers and are studied in recreational mathematics') ) # outputs []\n",
    "\n",
    "\n",
    "def uniquePalindromes(string):\n",
    "    words = (string.lower()).split()\n",
    "    palindromes = set()\n",
    "    for word in words:\n",
    "        #word.lower()\n",
    "        if isPalindrome(word):\n",
    "            palindromes.add(word)\n",
    "            #print(palindromes)\n",
    "    \n",
    "    return sorted(list(palindromes), reverse=True)\n",
    "\n",
    "# Example: \n",
    "print( uniquePalindromes('Madam asked Anna to go out but Anna refused') ) # outputs ['madam', 'anna']\n",
    "print( uniquePalindromes('Palindromes are also found in numbers and are studied in recreational mathematics') ) # outputs []\n"
   ]
  },
  {
   "cell_type": "code",
   "execution_count": null,
   "metadata": {
    "collapsed": true,
    "deletable": false,
    "editable": false,
    "nbgrader": {
     "grade": true,
     "grade_id": "Q6:UniquePalindrome0",
     "locked": true,
     "points": "1",
     "solution": false
    }
   },
   "outputs": [],
   "source": [
    "###\n",
    "### AUTOGRADER TEST - DO NOT REMOVE\n",
    "###\n"
   ]
  },
  {
   "cell_type": "code",
   "execution_count": null,
   "metadata": {
    "collapsed": true,
    "deletable": false,
    "editable": false,
    "nbgrader": {
     "grade": true,
     "grade_id": "Q6:UniquePalindrome1",
     "locked": true,
     "points": "1",
     "solution": false
    }
   },
   "outputs": [],
   "source": [
    "###\n",
    "### AUTOGRADER TEST - DO NOT REMOVE\n",
    "###\n"
   ]
  },
  {
   "cell_type": "code",
   "execution_count": null,
   "metadata": {
    "collapsed": true,
    "deletable": false,
    "editable": false,
    "nbgrader": {
     "grade": true,
     "grade_id": "Q6:UniquePalindrome2",
     "locked": true,
     "points": "1",
     "solution": false
    }
   },
   "outputs": [],
   "source": [
    "###\n",
    "### AUTOGRADER TEST - DO NOT REMOVE\n",
    "###\n"
   ]
  },
  {
   "cell_type": "markdown",
   "metadata": {
    "deletable": false,
    "editable": false,
    "nbgrader": {
     "grade": false,
     "locked": true,
     "solution": false
    }
   },
   "source": [
    "## Q7 "
   ]
  },
  {
   "cell_type": "code",
   "execution_count": 9,
   "metadata": {},
   "outputs": [
    {
     "name": "stdout",
     "output_type": "stream",
     "text": [
      "[11, 10, 10, 11, 11, 5, 0, 10, 11, 12, 13, 12, 4, 0, 10, 11, 13, 10, 10, 6, 0, 9, 10, 13, 11, 16, 5, 0, 11, 10, 11, 11, 11, 5, 0, 11, 14, 13, 12, 13, 5, 0, 10, 12, 8, 12, 10, 2, 0, 11, 14, 10, 11, 11, 4, 0, 10, 12, 12, 10, 10, 5]\n"
     ]
    }
   ],
   "source": [
    "# Write a function to read in from a given file and count the number of words in each line.\n",
    "\n",
    "# numWords(filename) takes as input the file to read the text from, and returns a list of number of \n",
    "# words in each line. The words in the input file are separated by whitespace. The output should be \n",
    "# in the order of lines in the file. You can use your code in Q4 above to split the lines into words \n",
    "# and count the number of words. \n",
    "#\n",
    "\n",
    "\n",
    "def numWords(filename):\n",
    "    fp = open(filename)\n",
    "    wordCount = []\n",
    "    for line in fp:\n",
    "        wordCount.append(splitStringCount(line))\n",
    "    \n",
    "    return wordCount\n",
    "\n",
    "# Example: \n",
    "print( numWords('raven-poem_demo.txt') )\n",
    "# outputs [11, 10, 10, 11, 11, 5, 0, 10, 11, 12, 13, 12, 4, 0, 10, 11, 13, 10, 10, 6, 0, 9, 10, 13, 11, 16, 5, 0, 11, 10, 11, 11,\n",
    "# 11, 5, 0, 11, 14, 13, 12, 13, 5, 0, 10, 12, 8, 12, 10, 2, 0, 11, 14, 10, 11, 11, 4, 0, 10, 12, 12, 10, 10, 5]\n"
   ]
  },
  {
   "cell_type": "code",
   "execution_count": null,
   "metadata": {
    "collapsed": true,
    "deletable": false,
    "editable": false,
    "nbgrader": {
     "grade": true,
     "grade_id": "Q7:NumWords0",
     "locked": true,
     "points": "1",
     "solution": false
    }
   },
   "outputs": [],
   "source": [
    "###\n",
    "### AUTOGRADER TEST - DO NOT REMOVE\n",
    "###\n"
   ]
  },
  {
   "cell_type": "code",
   "execution_count": null,
   "metadata": {
    "collapsed": true,
    "deletable": false,
    "editable": false,
    "nbgrader": {
     "grade": true,
     "grade_id": "Q7:NumWords1",
     "locked": true,
     "points": "2",
     "solution": false
    }
   },
   "outputs": [],
   "source": [
    "###\n",
    "### AUTOGRADER TEST - DO NOT REMOVE\n",
    "###\n"
   ]
  },
  {
   "cell_type": "markdown",
   "metadata": {
    "deletable": false,
    "editable": false,
    "nbgrader": {
     "grade": false,
     "locked": true,
     "solution": false
    }
   },
   "source": [
    "## Q8"
   ]
  },
  {
   "cell_type": "code",
   "execution_count": 10,
   "metadata": {},
   "outputs": [
    {
     "name": "stdout",
     "output_type": "stream",
     "text": [
      "8.790322580645162\n"
     ]
    }
   ],
   "source": [
    "# Write a function to calculate the average number of words in each line of a given file. \n",
    "\n",
    "# averageWords(filename) takes as input the filename to read from, and returns the average number of \n",
    "# words per line in that file. \n",
    "#\n",
    "\n",
    "\n",
    "def averageWords(filename):\n",
    "    wordCount = numWords(filename)\n",
    "    return sum(wordCount)/len(wordCount)\n",
    "\n",
    "# Example: \n",
    "print( averageWords('raven-poem_demo.txt') ) # outputs 8.79..."
   ]
  },
  {
   "cell_type": "code",
   "execution_count": null,
   "metadata": {
    "collapsed": true,
    "deletable": false,
    "editable": false,
    "nbgrader": {
     "grade": true,
     "grade_id": "Q8:AverageWords0",
     "locked": true,
     "points": "1",
     "solution": false
    }
   },
   "outputs": [],
   "source": [
    "###\n",
    "### AUTOGRADER TEST - DO NOT REMOVE\n",
    "###\n"
   ]
  },
  {
   "cell_type": "code",
   "execution_count": null,
   "metadata": {
    "collapsed": true,
    "deletable": false,
    "editable": false,
    "nbgrader": {
     "grade": true,
     "grade_id": "Q8:AverageWords1",
     "locked": true,
     "points": "2",
     "solution": false
    }
   },
   "outputs": [],
   "source": [
    "###\n",
    "### AUTOGRADER TEST - DO NOT REMOVE\n",
    "###\n"
   ]
  },
  {
   "cell_type": "markdown",
   "metadata": {
    "deletable": false,
    "editable": false,
    "nbgrader": {
     "grade": false,
     "locked": true,
     "solution": false
    }
   },
   "source": [
    "## Q9:"
   ]
  },
  {
   "cell_type": "code",
   "execution_count": 11,
   "metadata": {},
   "outputs": [
    {
     "name": "stdout",
     "output_type": "stream",
     "text": [
      "27\n"
     ]
    }
   ],
   "source": [
    "# Write a function to count the number of lines in a file, containing the substring \"ing\".\n",
    "\n",
    "# countLines(filename) takes as input the filename to read from, and returns the number of lines that \n",
    "# contain the substring 'ing'. All occurrences of the given substring in a line are counted only once.\n",
    "#\n",
    "\n",
    "\n",
    "def countLines(filename):\n",
    "    lineCount = 0\n",
    "    fp = open(filename)\n",
    "    for line in fp:\n",
    "        if 'ing' in line:\n",
    "            lineCount+=1\n",
    "    \n",
    "    return lineCount\n",
    "\n",
    "# Example: \n",
    "print( countLines('raven-poem_demo.txt') ) # outputs 27"
   ]
  },
  {
   "cell_type": "code",
   "execution_count": null,
   "metadata": {
    "collapsed": true,
    "deletable": false,
    "editable": false,
    "nbgrader": {
     "grade": true,
     "grade_id": "Q9:CountLines0",
     "locked": true,
     "points": "1",
     "solution": false
    }
   },
   "outputs": [],
   "source": [
    "###\n",
    "### AUTOGRADER TEST - DO NOT REMOVE\n",
    "###\n"
   ]
  },
  {
   "cell_type": "code",
   "execution_count": null,
   "metadata": {
    "collapsed": true,
    "deletable": false,
    "editable": false,
    "nbgrader": {
     "grade": true,
     "grade_id": "Q9:CountLines1",
     "locked": true,
     "points": "2",
     "solution": false
    }
   },
   "outputs": [],
   "source": [
    "###\n",
    "### AUTOGRADER TEST - DO NOT REMOVE\n",
    "###\n"
   ]
  },
  {
   "cell_type": "markdown",
   "metadata": {
    "deletable": false,
    "editable": false,
    "nbgrader": {
     "grade": false,
     "locked": true,
     "solution": false
    }
   },
   "source": [
    "## Q10"
   ]
  },
  {
   "cell_type": "code",
   "execution_count": 14,
   "metadata": {
    "nbgrader": {
     "grade": false,
     "locked": false,
     "solution": false
    }
   },
   "outputs": [
    {
     "name": "stdout",
     "output_type": "stream",
     "text": [
      "['tattarrattat', 'redivider', 'detartrated', 'aibohphobia', 'a']\n"
     ]
    }
   ],
   "source": [
    "# Write a function to read text from an input file, find all unique palindromes and return them in \n",
    "# sorted order. \n",
    "\n",
    "# findPalindromes(filename) takes as input the file to read the text from, and returns a list of the \n",
    "# unique palindromes sorted in decreasing lexicographic order (reverse sorted order), in lower case. \n",
    "# You can use your code above for checking if a string is a palindrome. \n",
    "\n",
    "\n",
    "def findPalindromes(filename):\n",
    "    fp = open(filename)\n",
    "    unique = set()\n",
    "    for line in fp:\n",
    "        words = line.split()\n",
    "        for word in words:\n",
    "            if isPalindrome(word):\n",
    "                unique.add(word.lower())\n",
    "                \n",
    "    palindromeSorted = sorted(list(unique), reverse=True)\n",
    "    return palindromeSorted\n",
    "            \n",
    "\n",
    "# For example,\n",
    "# filename: palindrome.txt\n",
    "# output: ['tattarrattat', 'redivider', 'detartrated', 'aibohphobia', 'a']\n",
    "print(findPalindromes('palindrome.txt'))"
   ]
  },
  {
   "cell_type": "code",
   "execution_count": null,
   "metadata": {
    "collapsed": true,
    "deletable": false,
    "editable": false,
    "nbgrader": {
     "grade": true,
     "grade_id": "Q10:FilePalindromes0",
     "locked": true,
     "points": "1",
     "solution": false
    }
   },
   "outputs": [],
   "source": [
    "\n",
    "###\n",
    "### AUTOGRADER TEST - DO NOT REMOVE\n",
    "###\n"
   ]
  },
  {
   "cell_type": "code",
   "execution_count": null,
   "metadata": {
    "collapsed": true,
    "deletable": false,
    "editable": false,
    "nbgrader": {
     "grade": true,
     "grade_id": "Q10:FilePalindromes1",
     "locked": true,
     "points": "2",
     "solution": false
    }
   },
   "outputs": [],
   "source": [
    "###\n",
    "### AUTOGRADER TEST - DO NOT REMOVE\n",
    "###\n"
   ]
  }
 ],
 "metadata": {
  "kernelspec": {
   "display_name": "Python 3 [3.6]",
   "language": "python",
   "name": "python3"
  },
  "language_info": {
   "codemirror_mode": {
    "name": "ipython",
    "version": 3
   },
   "file_extension": ".py",
   "mimetype": "text/x-python",
   "name": "python",
   "nbconvert_exporter": "python",
   "pygments_lexer": "ipython3",
   "version": "3.6.4"
  }
 },
 "nbformat": 4,
 "nbformat_minor": 2
}
