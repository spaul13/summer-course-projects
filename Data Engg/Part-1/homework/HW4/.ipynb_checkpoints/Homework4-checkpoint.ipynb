{
 "cells": [
  {
   "cell_type": "markdown",
   "metadata": {
    "deletable": false,
    "editable": false,
    "nbgrader": {
     "grade": false,
     "locked": true,
     "solution": false
    }
   },
   "source": [
    "In this homework, the questions on plots will be graded manually, and all remaining questions will be auto-graded."
   ]
  },
  {
   "cell_type": "markdown",
   "metadata": {
    "deletable": false,
    "editable": false,
    "nbgrader": {
     "grade": false,
     "locked": true,
     "solution": false
    }
   },
   "source": [
    "## Q1: Regular Expressions (6 points)"
   ]
  },
  {
   "cell_type": "code",
   "execution_count": 2,
   "metadata": {
    "collapsed": true,
    "deletable": false,
    "editable": false,
    "nbgrader": {
     "grade": false,
     "locked": true,
     "solution": false
    }
   },
   "outputs": [],
   "source": [
    "# Import the 're' package in python for this question. \n",
    "import re"
   ]
  },
  {
   "cell_type": "markdown",
   "metadata": {
    "deletable": false,
    "editable": false,
    "nbgrader": {
     "grade": false,
     "locked": true,
     "solution": false
    }
   },
   "source": [
    "(a) Write a regular expression to check if an input string contains a sequence of digits (of any length)."
   ]
  },
  {
   "cell_type": "code",
   "execution_count": 50,
   "metadata": {},
   "outputs": [
    {
     "name": "stdout",
     "output_type": "stream",
     "text": [
      "True\n",
      "False\n"
     ]
    }
   ],
   "source": [
    "# checkDigitSequence(string) takes as input a string containing zero or more sequences \n",
    "# of digits and returns a boolean value which is True if the string contains at least \n",
    "# one sequence, and False if no such sequence is found. \n",
    "\n",
    "def checkDigitSequence(string):\n",
    "    pattern = re.compile(r\"\\d+\")\n",
    "    if len(re.findall(pattern, string)) > 0:\n",
    "        return True\n",
    "    return False\n",
    "\n",
    "    \n",
    "# Example Test Q1a\n",
    "print( checkDigitSequence('My number is 987654321 and my friend\\'s number is 123456789') )\n",
    "# output: True\n",
    "\n",
    "print( checkDigitSequence('Hello World!') )\n",
    "# output: False"
   ]
  },
  {
   "cell_type": "code",
   "execution_count": 3,
   "metadata": {
    "collapsed": true,
    "deletable": false,
    "editable": false,
    "nbgrader": {
     "grade": true,
     "grade_id": "Q1a:checkDigitSequence_0",
     "locked": true,
     "points": "1",
     "solution": false
    }
   },
   "outputs": [],
   "source": [
    "###\n",
    "### AUTOGRADER TEST - DO NOT REMOVE\n",
    "###\n"
   ]
  },
  {
   "cell_type": "code",
   "execution_count": 4,
   "metadata": {
    "collapsed": true,
    "deletable": false,
    "editable": false,
    "nbgrader": {
     "grade": true,
     "grade_id": "Q1a:checkDigitSequence_1",
     "locked": true,
     "points": "1",
     "solution": false
    }
   },
   "outputs": [],
   "source": [
    "###\n",
    "### AUTOGRADER TEST - DO NOT REMOVE\n",
    "###\n"
   ]
  },
  {
   "cell_type": "code",
   "execution_count": 5,
   "metadata": {
    "collapsed": true,
    "deletable": false,
    "editable": false,
    "nbgrader": {
     "grade": true,
     "grade_id": "Q1a:checkDigitSequence_2",
     "locked": true,
     "points": "1",
     "solution": false
    }
   },
   "outputs": [],
   "source": [
    "###\n",
    "### AUTOGRADER TEST - DO NOT REMOVE\n",
    "###\n"
   ]
  },
  {
   "cell_type": "markdown",
   "metadata": {
    "deletable": false,
    "editable": false,
    "nbgrader": {
     "grade": false,
     "locked": true,
     "solution": false
    }
   },
   "source": [
    "(b) Write a regular expression to find all sequences of digits (of any length) in an input string."
   ]
  },
  {
   "cell_type": "code",
   "execution_count": 51,
   "metadata": {},
   "outputs": [
    {
     "name": "stdout",
     "output_type": "stream",
     "text": [
      "['123456789', '987654321']\n",
      "None\n"
     ]
    }
   ],
   "source": [
    "# findDigitSequence(string) takes as input a string containing zero or more sequences \n",
    "# of digits and returns a list of all sequences in the string. The output list must \n",
    "# be sorted in the increasing order. You can use the 'sorted' function in python for \n",
    "# sorting the list. If no sequence is present, then the function should return 'None'. \n",
    "\n",
    "def findDigitSequence(string):\n",
    "    pattern = re.compile(r\"\\d+\")\n",
    "    p = re.findall(pattern, string)\n",
    "    if len(p) > 0:\n",
    "        return sorted(p)\n",
    "    else:\n",
    "        return None\n",
    "\n",
    "# Example Test Q1b\n",
    "print( findDigitSequence(\"My number is 987654321 and my friend\\'s number is 123456789.\") )\n",
    "# output ['123456789', '987654321']\n",
    "\n",
    "print( findDigitSequence(\"Hello World!\") )\n",
    "# output None"
   ]
  },
  {
   "cell_type": "code",
   "execution_count": 7,
   "metadata": {
    "collapsed": true,
    "deletable": false,
    "editable": false,
    "nbgrader": {
     "grade": true,
     "grade_id": "Q1b:findDigitSequence_0",
     "locked": true,
     "points": "1",
     "solution": false
    }
   },
   "outputs": [],
   "source": [
    "###\n",
    "### AUTOGRADER TEST - DO NOT REMOVE\n",
    "###\n"
   ]
  },
  {
   "cell_type": "code",
   "execution_count": 8,
   "metadata": {
    "collapsed": true,
    "deletable": false,
    "editable": false,
    "nbgrader": {
     "grade": true,
     "grade_id": "Q1b:findDigitSequence_1",
     "locked": true,
     "points": "1",
     "solution": false
    }
   },
   "outputs": [],
   "source": [
    "###\n",
    "### AUTOGRADER TEST - DO NOT REMOVE\n",
    "###\n"
   ]
  },
  {
   "cell_type": "code",
   "execution_count": 9,
   "metadata": {
    "collapsed": true,
    "deletable": false,
    "editable": false,
    "nbgrader": {
     "grade": true,
     "grade_id": "Q1b:findDigitSequence_2",
     "locked": true,
     "points": "1",
     "solution": false
    }
   },
   "outputs": [],
   "source": [
    "###\n",
    "### AUTOGRADER TEST - DO NOT REMOVE\n",
    "###\n"
   ]
  },
  {
   "cell_type": "markdown",
   "metadata": {
    "deletable": false,
    "editable": false,
    "nbgrader": {
     "grade": false,
     "locked": true,
     "solution": false
    }
   },
   "source": [
    "(c) Write a regular expression to find \"proper case words\" in an input string. Proper case words have their first letter capitalized and the remaining characters are lower case alpha-numeric characters. (Assume words are separated by a whitespace). "
   ]
  },
  {
   "cell_type": "code",
   "execution_count": 52,
   "metadata": {},
   "outputs": [
    {
     "name": "stdout",
     "output_type": "stream",
     "text": [
      "['Data', 'Introduction', 'Science', 'We']\n",
      "None\n"
     ]
    }
   ],
   "source": [
    "# findProperCase(string) takes an input string, and returns a list of all words in the \n",
    "# string that have their first letter capitalized followed by any number of lower case alpha-numeric \n",
    "# characters. The output list must be sorted in the increasing lexicographic order. \n",
    "# You can use the 'sorted' function in python for sorting the list. If no such word \n",
    "# is present in the given string, then the function should return 'None'.\n",
    "\n",
    "def findProperCase(string):\n",
    "    pattern = re.compile(r\"[A-Z]\\w*\")\n",
    "    p = re.findall(pattern, string)\n",
    "    if len(p) > 0:\n",
    "        return sorted(p)\n",
    "    else:\n",
    "        return None\n",
    "\n",
    "# Example Test Q1c\n",
    "print( findProperCase('We are studying the course Introduction to Data Science.') )\n",
    "# output: ['Data', 'Introduction', 'Science', 'We']\n",
    "\n",
    "print( findProperCase('today is our fourth lab assignment') )\n",
    "# output: None"
   ]
  },
  {
   "cell_type": "code",
   "execution_count": 11,
   "metadata": {
    "collapsed": true,
    "deletable": false,
    "editable": false,
    "nbgrader": {
     "grade": true,
     "grade_id": "Q1c:findProperCase_0",
     "locked": true,
     "points": "1",
     "solution": false
    }
   },
   "outputs": [],
   "source": [
    "###\n",
    "### AUTOGRADER TEST - DO NOT REMOVE\n",
    "###\n"
   ]
  },
  {
   "cell_type": "code",
   "execution_count": 12,
   "metadata": {
    "collapsed": true,
    "deletable": false,
    "editable": false,
    "nbgrader": {
     "grade": true,
     "grade_id": "Q1c:findProperCase_1",
     "locked": true,
     "points": "1",
     "solution": false
    }
   },
   "outputs": [],
   "source": [
    "###\n",
    "### AUTOGRADER TEST - DO NOT REMOVE\n",
    "###\n"
   ]
  },
  {
   "cell_type": "code",
   "execution_count": 13,
   "metadata": {
    "collapsed": true,
    "deletable": false,
    "editable": false,
    "nbgrader": {
     "grade": true,
     "grade_id": "Q1c:findProperCase_2",
     "locked": true,
     "points": "1",
     "solution": false
    }
   },
   "outputs": [],
   "source": [
    "###\n",
    "### AUTOGRADER TEST - DO NOT REMOVE\n",
    "###\n"
   ]
  },
  {
   "cell_type": "markdown",
   "metadata": {
    "deletable": false,
    "editable": false,
    "nbgrader": {
     "grade": false,
     "locked": true,
     "solution": false
    }
   },
   "source": [
    "(d) Define a \"proper case word-number\" sequence as follows: a proper case word (as defined above) followed by a whitespace character and then sequence of 1 or more digits (e.g., January 15).\n",
    "\n",
    "Write a regular expression to check if an input string contains a \"proper case word number\" sequence."
   ]
  },
  {
   "cell_type": "code",
   "execution_count": 53,
   "metadata": {},
   "outputs": [
    {
     "name": "stdout",
     "output_type": "stream",
     "text": [
      "True\n",
      "False\n"
     ]
    }
   ],
   "source": [
    "# checkProperCaseWordNumSeq(string) takes an input string and returns a boolean value \n",
    "# which is True if the string contains a proper case word-number sequence as defined \n",
    "# above and False if no such sequence is found. \n",
    "\n",
    "def checkProperCaseWordNumSeq(string):\n",
    "    pattern = re.compile(r\"\\D+ \\d+\")\n",
    "    if len(re.findall(pattern, string)) > 0:\n",
    "        return True\n",
    "    return False\n",
    "\n",
    "    \n",
    "# Example Test Q1d\n",
    "print( checkProperCaseWordNumSeq('I was born on January 15') )\n",
    "# output: True\n",
    "    \n",
    "print( checkProperCaseWordNumSeq('I was born on January fifteen') )\n",
    "#output: False"
   ]
  },
  {
   "cell_type": "code",
   "execution_count": 15,
   "metadata": {
    "collapsed": true,
    "deletable": false,
    "editable": false,
    "nbgrader": {
     "grade": true,
     "grade_id": "Q1d:checkWordNumSeq_0",
     "locked": true,
     "points": "1",
     "solution": false
    }
   },
   "outputs": [],
   "source": [
    "###\n",
    "### AUTOGRADER TEST - DO NOT REMOVE\n",
    "###\n"
   ]
  },
  {
   "cell_type": "code",
   "execution_count": 16,
   "metadata": {
    "collapsed": true,
    "deletable": false,
    "editable": false,
    "nbgrader": {
     "grade": true,
     "grade_id": "Q1d:checkWordNumSeq_1",
     "locked": true,
     "points": "1",
     "solution": false
    }
   },
   "outputs": [],
   "source": [
    "###\n",
    "### AUTOGRADER TEST - DO NOT REMOVE\n",
    "###\n"
   ]
  },
  {
   "cell_type": "code",
   "execution_count": 17,
   "metadata": {
    "collapsed": true,
    "deletable": false,
    "editable": false,
    "nbgrader": {
     "grade": true,
     "grade_id": "Q1d:checkWordNumSeq_2",
     "locked": true,
     "points": "1",
     "solution": false
    }
   },
   "outputs": [],
   "source": [
    "###\n",
    "### AUTOGRADER TEST - DO NOT REMOVE\n",
    "###\n"
   ]
  },
  {
   "cell_type": "markdown",
   "metadata": {
    "deletable": false,
    "editable": false,
    "nbgrader": {
     "grade": false,
     "locked": true,
     "solution": false
    }
   },
   "source": [
    "(e) Find all words that correspond to months of the year (e.g., 'January', 'February', etc) in an input string and replace them with their numerical representation (e.g., 01, 02, etc). Return the resulting output string. \n",
    "\n",
    "Note: If the input does not contain any months, then the output string will be the same as the input string."
   ]
  },
  {
   "cell_type": "code",
   "execution_count": 54,
   "metadata": {},
   "outputs": [
    {
     "name": "stdout",
     "output_type": "stream",
     "text": [
      "I was born on 06 24 and my sister was born on 05 17\n",
      "This is a string without a month in it\n"
     ]
    }
   ],
   "source": [
    "# transformMonths(string) takes an input string, finds all the proper case references to \n",
    "# months of the year, tranforms them to a numerical representation and returns the result.\n",
    "import datetime, calendar\n",
    "\n",
    "\n",
    "def transformMonths(string):\n",
    "    monthList = list(calendar.month_name)\n",
    "    months = {}\n",
    "    for index in range(1,len(monthList)):\n",
    "        months[monthList[index]] = str(index).zfill(2)\n",
    "    pattern = r\"\\b(\"+\"|\".join(months)+r\")\\b\" # all months as distinct words\n",
    "    return re.sub(pattern,lambda m:months[m.group()],string)\n",
    "    \n",
    "    \n",
    "# Example Test Q1e\n",
    "print( transformMonths('I was born on June 24 and my sister was born on May 17') )\n",
    "# output: 'I was born on 06 24 and my sister was born on 05 17'\n",
    "\n",
    "print( transformMonths('This is a string without a month in it') )\n",
    "# output: 'This is a string without a month in it'"
   ]
  },
  {
   "cell_type": "code",
   "execution_count": 19,
   "metadata": {
    "collapsed": true,
    "deletable": false,
    "editable": false,
    "nbgrader": {
     "grade": true,
     "grade_id": "Q1e:transformMonths_0",
     "locked": true,
     "points": "1",
     "solution": false
    }
   },
   "outputs": [],
   "source": [
    "###\n",
    "### AUTOGRADER TEST - DO NOT REMOVE\n",
    "###\n"
   ]
  },
  {
   "cell_type": "code",
   "execution_count": 20,
   "metadata": {
    "collapsed": true,
    "deletable": false,
    "editable": false,
    "nbgrader": {
     "grade": true,
     "grade_id": "Q1e:transformMonths_1",
     "locked": true,
     "points": "1",
     "solution": false
    }
   },
   "outputs": [],
   "source": [
    "###\n",
    "### AUTOGRADER TEST - DO NOT REMOVE\n",
    "###\n"
   ]
  },
  {
   "cell_type": "code",
   "execution_count": 21,
   "metadata": {
    "collapsed": true,
    "deletable": false,
    "editable": false,
    "nbgrader": {
     "grade": true,
     "grade_id": "Q1e:transformMonths_2",
     "locked": true,
     "points": "1",
     "solution": false
    }
   },
   "outputs": [],
   "source": [
    "###\n",
    "### AUTOGRADER TEST - DO NOT REMOVE\n",
    "###\n"
   ]
  },
  {
   "cell_type": "markdown",
   "metadata": {
    "deletable": false,
    "editable": false,
    "nbgrader": {
     "grade": false,
     "locked": true,
     "solution": false
    }
   },
   "source": [
    "(f) Given an input file, determine how many lines in the file contain a clause (delinated by two commas followed by a space, i.e. ', '). Note the full clause must be contained on a single line to be considered a match. If the clause is split across two lines, do not count it."
   ]
  },
  {
   "cell_type": "code",
   "execution_count": 15,
   "metadata": {},
   "outputs": [
    {
     "data": {
      "text/plain": [
       "8"
      ]
     },
     "execution_count": 15,
     "metadata": {},
     "output_type": "execute_result"
    }
   ],
   "source": [
    "# countClauses(filename) takes an input filename, and returns the number of lines \n",
    "# containing a clause separated by commas.\n",
    "\"\"\"\n",
    "def countClauses1(filename):\n",
    "    fp = open(filename)\n",
    "    count = 0\n",
    "    pattern = re.compile(r\", [a-z A-Z\\s]+,(?:(?![\\n])\\s)\")\n",
    "    for line in fp:\n",
    "        p = re.findall(pattern, line)\n",
    "        if len(re.findall(pattern, line)) > 0:            \n",
    "            #print(p)\n",
    "            count+=1\n",
    "    return count\n",
    "\"\"\"\n",
    "def countClauses(filename):\n",
    "    fp = open(filename)\n",
    "    count = 0\n",
    "    for line in fp:\n",
    "        if line.count(\", \")==2:\n",
    "            count+=1\n",
    "    return count\n",
    "   \n",
    "# Example Test Q1f\n",
    "countClauses('raven-poem_demo.txt')\n",
    "# output: 8"
   ]
  },
  {
   "cell_type": "code",
   "execution_count": 73,
   "metadata": {
    "collapsed": true,
    "deletable": false,
    "editable": false,
    "nbgrader": {
     "grade": true,
     "grade_id": "Q1f:countClauses0",
     "locked": true,
     "points": "1",
     "solution": false
    }
   },
   "outputs": [],
   "source": [
    "###\n",
    "### AUTOGRADER TEST - DO NOT REMOVE\n",
    "###\n"
   ]
  },
  {
   "cell_type": "code",
   "execution_count": 6,
   "metadata": {
    "collapsed": true,
    "deletable": false,
    "editable": false,
    "nbgrader": {
     "grade": true,
     "grade_id": "Q1f:countClauses1",
     "locked": true,
     "points": "2",
     "solution": false
    }
   },
   "outputs": [],
   "source": [
    "###\n",
    "### AUTOGRADER TEST - DO NOT REMOVE\n",
    "###\n"
   ]
  },
  {
   "cell_type": "markdown",
   "metadata": {
    "deletable": false,
    "editable": false,
    "nbgrader": {
     "grade": false,
     "locked": true,
     "solution": false
    }
   },
   "source": [
    "## Q2: Sampling (4 points)"
   ]
  },
  {
   "cell_type": "markdown",
   "metadata": {
    "deletable": false,
    "editable": false,
    "nbgrader": {
     "grade": false,
     "locked": true,
     "solution": false
    }
   },
   "source": [
    "Consider the dataset 'bush-gore-results-fl_demo.csv'. Construct 20 different samples of counties, by randomly sampling the 10 out of the 50 rows. For each sample, calculate the total votes received by each specified candidate, and return the average across the 20 samples for each candidate. \n",
    "\n",
    "Unless specified otherwise, use the sample() function in pandas and set the 'random_state' parameter to the ith sample number to faciliate testing, i.e., for the fist sample use random_state=0, for the second sample use random_state=1, etc.\n"
   ]
  },
  {
   "cell_type": "markdown",
   "metadata": {
    "deletable": false,
    "editable": false,
    "nbgrader": {
     "grade": false,
     "locked": true,
     "solution": false
    }
   },
   "source": [
    "(a) Using sampling with replacement, create samples for following candidates: ['brow', 'nade', 'harr', 'hage', 'buch', 'mcre', 'phil', 'moor'], and return the mean of the total votes for each candidate."
   ]
  },
  {
   "cell_type": "code",
   "execution_count": 16,
   "metadata": {},
   "outputs": [
    {
     "data": {
      "text/plain": [
       "[3593.55, 16358.95, 1085.7, 1310.9, 3844.9, 1111.2, 1221.55, 1281.8]"
      ]
     },
     "execution_count": 16,
     "metadata": {},
     "output_type": "execute_result"
    }
   ],
   "source": [
    "# sampleWithReplacement(filename) takes as input the filename, samples with replacement \n",
    "# 20 samples of size 10, and returns the mean of the total votes for each candidate as  \n",
    "# a list, in the order of the candidates given above.\n",
    "import pandas as pd\n",
    "\n",
    "def sampleWithReplacement(filename):\n",
    "    data = pd.read_csv(filename)\n",
    "    #print(data1['brow'])\n",
    "    meanVote = []\n",
    "    for col in ['brow', 'nade', 'harr', 'hage', 'buch', 'mcre', 'phil', 'moor']:\n",
    "        data1 = data.sample(10, replace=True, random_state=0)\n",
    "        for i in range(1,20):\n",
    "            data2 = data.sample(10, replace=True, random_state=i)\n",
    "            data1 = data1.append(data2)\n",
    "        meanVote.append(sum(data1[col])/20)\n",
    "    return meanVote\n",
    "    \n",
    "    \n",
    "# Example Test Q2a\n",
    "sampleWithReplacement('bush-gore-results-fl_demo.csv')\n",
    "# output:  [3593.55, 16358.95, 1085.7, 1310.9, 3844.9, 1111.2, 1221.55, 1281.8 ]"
   ]
  },
  {
   "cell_type": "code",
   "execution_count": 9,
   "metadata": {
    "collapsed": true,
    "deletable": false,
    "editable": false,
    "nbgrader": {
     "grade": true,
     "grade_id": "Q2a:sampleWithReplacement0",
     "locked": true,
     "points": "1",
     "solution": false
    }
   },
   "outputs": [],
   "source": [
    "###\n",
    "### AUTOGRADER TEST - DO NOT REMOVE\n",
    "###\n"
   ]
  },
  {
   "cell_type": "code",
   "execution_count": 27,
   "metadata": {
    "collapsed": true,
    "deletable": false,
    "editable": false,
    "nbgrader": {
     "grade": true,
     "grade_id": "Q2a:sampleWithReplacement1",
     "locked": true,
     "points": "2",
     "solution": false
    }
   },
   "outputs": [],
   "source": [
    "###\n",
    "### AUTOGRADER TEST - DO NOT REMOVE\n",
    "###\n"
   ]
  },
  {
   "cell_type": "markdown",
   "metadata": {
    "deletable": false,
    "editable": false,
    "nbgrader": {
     "grade": false,
     "locked": true,
     "solution": false
    }
   },
   "source": [
    "(b) Using sampling with replacement, create samples for following candidates: ['bush', 'gore'], and show a boxplot with candidates on x axis and the total number of votes (for the different samples) on y-axis. For this part, consider the dataset in file 'bush-gore-results-fl_demo.csv'."
   ]
  },
  {
   "cell_type": "code",
   "execution_count": 19,
   "metadata": {},
   "outputs": [
    {
     "data": {
      "image/png": "[encoded data removed]",
      "text/plain": [
       "<Figure size 432x288 with 1 Axes>"
      ]
     },
     "metadata": {},
     "output_type": "display_data"
    }
   ],
   "source": [
    "import pandas as pd\n",
    "import matplotlib.pyplot as plt \n",
    "labels = []\n",
    "dataGrps = []\n",
    "\n",
    "def sampleWithReplacementBox(filename):\n",
    "    data = pd.read_csv(filename)\n",
    "    #print(data1['brow'])\n",
    "    meanVote = []\n",
    "    for col in ['bush', 'gore']:\n",
    "        temp = []\n",
    "        for i in range(20):\n",
    "            data1 = data.sample(10, replace=True, random_state=i)\n",
    "            temp.append(sum(data1[col]))\n",
    "        labels.append(col)\n",
    "        dataGrps.append(temp)\n",
    "    fig, ax = plt.subplots()\n",
    "    ax.boxplot(dataGrps)\n",
    "    ax.set_xticklabels(labels)\n",
    "    ax.set_ylabel('Number of Votes')\n",
    "    ax.set_title('Boxplot of the distribution of total votes across 20 samples', pad=20)\n",
    "    plt.show()\n",
    "    \n",
    "    \n",
    "# Example Test Q2a\n",
    "sampleWithReplacementBox('bush-gore-results-fl_demo.csv')\n"
   ]
  },
  {
   "cell_type": "markdown",
   "metadata": {
    "deletable": false,
    "editable": false,
    "nbgrader": {
     "grade": false,
     "locked": true,
     "solution": false
    }
   },
   "source": [
    "(c) Now use sampling without replacement to create samples for following candidates: ['brow', 'nade', 'harr', 'hage', 'buch', 'mcre', 'phil', 'moor'], and return the mean of the total votes for each candidate."
   ]
  },
  {
   "cell_type": "code",
   "execution_count": 21,
   "metadata": {},
   "outputs": [
    {
     "data": {
      "text/plain": [
       "[3346.85, 15555.7, 1088.35, 1352.95, 3277.45, 1066.0, 1175.75, 1273.1]"
      ]
     },
     "execution_count": 21,
     "metadata": {},
     "output_type": "execute_result"
    }
   ],
   "source": [
    "# sampleWithoutReplacement(filename) takes as input the filename, samples without \n",
    "# replacement 20 samples of size 10, and returns the mean of the total votes for each \n",
    "# candidate as a list, in the order of the candidates given above.\n",
    "\n",
    "def sampleWithoutReplacement(filename):\n",
    "    data = pd.read_csv(filename)\n",
    "    #print(data1['brow'])\n",
    "    meanVote = []\n",
    "    for col in ['brow', 'nade', 'harr', 'hage', 'buch', 'mcre', 'phil', 'moor']:\n",
    "        data1 = data.sample(10, replace=False, random_state=0)\n",
    "        for i in range(1,20):\n",
    "            data2 = data.sample(10, replace=False, random_state=i)\n",
    "            data1 = data1.append(data2)\n",
    "        meanVote.append(sum(data1[col])/20)\n",
    "    return meanVote\n",
    "    \n",
    "\n",
    "# Example Test Q2c\n",
    "sampleWithoutReplacement('bush-gore-results-fl_demo.csv')\n",
    "# output: [3346.85, 15555.7, 1088.35, 1352.95, 3277.45, 1066.0, 1175.75, 1273.1]"
   ]
  },
  {
   "cell_type": "code",
   "execution_count": 3,
   "metadata": {
    "collapsed": true,
    "deletable": false,
    "editable": false,
    "nbgrader": {
     "grade": true,
     "grade_id": "Q2b:sampleWithoutReplacement0",
     "locked": true,
     "points": "1",
     "solution": false
    }
   },
   "outputs": [],
   "source": [
    "###\n",
    "### AUTOGRADER TEST - DO NOT REMOVE\n",
    "###\n"
   ]
  },
  {
   "cell_type": "code",
   "execution_count": 4,
   "metadata": {
    "collapsed": true,
    "deletable": false,
    "editable": false,
    "nbgrader": {
     "grade": true,
     "grade_id": "Q2b:sampleWithoutReplacement1",
     "locked": true,
     "points": "2",
     "solution": false
    }
   },
   "outputs": [],
   "source": [
    "###\n",
    "### AUTOGRADER TEST - DO NOT REMOVE\n",
    "###\n"
   ]
  },
  {
   "cell_type": "markdown",
   "metadata": {
    "deletable": false,
    "editable": false,
    "nbgrader": {
     "grade": false,
     "locked": true,
     "solution": false
    }
   },
   "source": [
    "(d) Using sampling without replacement, create samples for following candidates: ['bush', 'gore'], and show a boxplot with the candidates on x axis and the total number of votes (for the different samples) on y-axis. For this part, consider the dataset in file 'bush-gore-results-fl_demo.csv'."
   ]
  },
  {
   "cell_type": "code",
   "execution_count": 22,
   "metadata": {},
   "outputs": [
    {
     "data": {
      "image/png": "[encoded data removed]",
      "text/plain": [
       "<Figure size 432x288 with 1 Axes>"
      ]
     },
     "metadata": {},
     "output_type": "display_data"
    }
   ],
   "source": [
    "import pandas as pd\n",
    "import matplotlib.pyplot as plt \n",
    "labels = []\n",
    "dataGrps = []\n",
    "\n",
    "def sampleWithoutReplacementBox(filename):\n",
    "    data = pd.read_csv(filename)\n",
    "    #print(data1['brow'])\n",
    "    meanVote = []\n",
    "    for col in ['bush', 'gore']:\n",
    "        temp = []\n",
    "        for i in range(20):\n",
    "            data1 = data.sample(10, replace=False, random_state=i)\n",
    "            temp.append(sum(data1[col]))\n",
    "        labels.append(col)\n",
    "        dataGrps.append(temp)\n",
    "    fig, ax = plt.subplots()\n",
    "    ax.boxplot(dataGrps)\n",
    "    ax.set_xticklabels(labels)\n",
    "    ax.set_ylabel('Number of Votes')\n",
    "    ax.set_title('Boxplot of the distribution of total votes across 20 samples', pad=20)\n",
    "    plt.show()\n",
    "    \n",
    "    \n",
    "# Example Test Q2a\n",
    "sampleWithoutReplacementBox('bush-gore-results-fl_demo.csv')\n"
   ]
  },
  {
   "cell_type": "markdown",
   "metadata": {
    "deletable": false,
    "editable": false,
    "nbgrader": {
     "grade": false,
     "locked": true,
     "solution": false
    }
   },
   "source": [
    "## Q3: Distance Measures (4 points)"
   ]
  },
  {
   "cell_type": "markdown",
   "metadata": {
    "deletable": false,
    "editable": false,
    "nbgrader": {
     "grade": false,
     "locked": true,
     "solution": false
    }
   },
   "source": [
    "(a) Find the distance between the county that Bush won by the largest margin and the county that Gore won by the largest margin. (Just use basic Euclidean distance between the latitude (lat) and longitude (lon) values for the counties.)"
   ]
  },
  {
   "cell_type": "code",
   "execution_count": 31,
   "metadata": {},
   "outputs": [
    {
     "data": {
      "text/plain": [
       "4.341658669218629"
      ]
     },
     "execution_count": 31,
     "metadata": {},
     "output_type": "execute_result"
    }
   ],
   "source": [
    "# findLatLonDistance(filename) takes an input the filename, and returns the distance \n",
    "# between the county that Bush won by the largest margin and the county that Gore\n",
    "# won by the largest margin.\n",
    "\n",
    "from sklearn.metrics.pairwise import euclidean_distances\n",
    "def getRowIndex(data, name):\n",
    "    cols = data.columns\n",
    "    maxDiff = 0\n",
    "    for c in range(len(data)):\n",
    "        if data.iloc[c,len(cols)-10:len(cols)].idxmax(axis=1) == name:\n",
    "            voteList = sorted(data.iloc[c, len(cols)-10:len(cols)], reverse=True)\n",
    "            if voteList[0] - voteList[1] > maxDiff:\n",
    "                cMax = c\n",
    "                maxDiff = voteList[0] - voteList[1]\n",
    "    return [[data[\"lat\"][cMax], data[\"lon\"][cMax]]]\n",
    "    \n",
    "def findLatLonDistance(filename):\n",
    "    data = pd.read_csv(filename)\n",
    "    cBush = getRowIndex(data, \"bush\")\n",
    "    cGore = getRowIndex(data, \"gore\")    \n",
    "    e = euclidean_distances(cBush, cGore)\n",
    "    return e[0][0] \n",
    "    \n",
    "    \n",
    "# Example Test Q3a\n",
    "findLatLonDistance('bush-gore-results-fl_demo.csv')\n",
    "# output: 4.341658669218476"
   ]
  },
  {
   "cell_type": "code",
   "execution_count": 7,
   "metadata": {
    "collapsed": true,
    "deletable": false,
    "editable": false,
    "nbgrader": {
     "grade": true,
     "grade_id": "Q3a:findLatLonDistance0",
     "locked": true,
     "points": "1",
     "solution": false
    }
   },
   "outputs": [],
   "source": [
    "###\n",
    "### AUTOGRADER TEST - DO NOT REMOVE\n",
    "###\n"
   ]
  },
  {
   "cell_type": "code",
   "execution_count": 8,
   "metadata": {
    "collapsed": true,
    "deletable": false,
    "editable": false,
    "nbgrader": {
     "grade": true,
     "grade_id": "Q3a:findLatLonDistance1",
     "locked": true,
     "points": "2",
     "solution": false
    }
   },
   "outputs": [],
   "source": [
    "###\n",
    "### AUTOGRADER TEST - DO NOT REMOVE\n",
    "###\n"
   ]
  },
  {
   "cell_type": "markdown",
   "metadata": {
    "deletable": false,
    "editable": false,
    "nbgrader": {
     "grade": false,
     "locked": true,
     "solution": false
    }
   },
   "source": [
    "(b) Consider the candidates: ['bush', 'gore']. Represent each candidate as a vector with entries corresponding to the number of votes the candidate obtained in each county. Calculate the pairwise Euclidean distance between the two candidate vectors. "
   ]
  },
  {
   "cell_type": "code",
   "execution_count": 35,
   "metadata": {},
   "outputs": [
    {
     "data": {
      "text/plain": [
       "264972.26245967706"
      ]
     },
     "execution_count": 35,
     "metadata": {},
     "output_type": "execute_result"
    }
   ],
   "source": [
    "# findVoteDistance(filename) takes an input the filename, and returns the distance \n",
    "# between the votes that Bush received and the votes that Gore received.\n",
    "\n",
    "def findVoteDistance(filename):\n",
    "    data = pd.read_csv(filename)\n",
    "    vBush = data[\"bush\"][:]\n",
    "    vGore = data[\"gore\"][:]\n",
    "    e = euclidean_distances([vBush], [vGore])\n",
    "    return e[0][0]\n",
    "    \n",
    "\n",
    "# Example Test Q3b\n",
    "findVoteDistance('bush-gore-results-fl_demo.csv')\n",
    "# output: 264972.26245967706"
   ]
  },
  {
   "cell_type": "code",
   "execution_count": 10,
   "metadata": {
    "collapsed": true,
    "deletable": false,
    "editable": false,
    "nbgrader": {
     "grade": true,
     "grade_id": "Q3b:findVoteDistance0",
     "locked": true,
     "points": "1",
     "solution": false
    }
   },
   "outputs": [],
   "source": [
    "###\n",
    "### AUTOGRADER TEST - DO NOT REMOVE\n",
    "###\n"
   ]
  },
  {
   "cell_type": "code",
   "execution_count": 11,
   "metadata": {
    "collapsed": true,
    "deletable": false,
    "editable": false,
    "nbgrader": {
     "grade": true,
     "grade_id": "Q3b:findVoteDistance1",
     "locked": true,
     "points": "2",
     "solution": false
    }
   },
   "outputs": [],
   "source": [
    "###\n",
    "### AUTOGRADER TEST - DO NOT REMOVE\n",
    "###\n"
   ]
  },
  {
   "cell_type": "markdown",
   "metadata": {
    "deletable": false,
    "editable": false,
    "nbgrader": {
     "grade": false,
     "locked": true,
     "solution": false
    }
   },
   "source": [
    "(c) Consider the candidates: ['bush', 'gore', 'nade']. Represent each candidate as a vector with entries corresponding to the number of votes the candidate obtained in each county. Calculate the pairwise distances between the candidate vectors and plot the resulting matrix as a heatmap. Annotate the axes of the heatmap with the column names of the candidates. For this part, consider the dataset in file 'bush-gore-results-fl_demo.csv'."
   ]
  },
  {
   "cell_type": "code",
   "execution_count": 45,
   "metadata": {},
   "outputs": [
    {
     "name": "stdout",
     "output_type": "stream",
     "text": [
      "[[     0.         264972.26245968 565912.82157767]\n",
      " [264972.26245968      0.         686755.40203409]\n",
      " [565912.82157767 686755.40203409      0.        ]]\n"
     ]
    },
    {
     "data": {
      "image/png": "[encoded data removed]",
      "text/plain": [
       "<Figure size 432x288 with 1 Axes>"
      ]
     },
     "metadata": {},
     "output_type": "display_data"
    }
   ],
   "source": [
    "import numpy as np\n",
    "def findVoteDistancePlot(filename):\n",
    "    canList = [\"bush\", \"gore\", \"nade\"]\n",
    "    dists = np.zeros((len(canList),len(canList)))\n",
    "    data = pd.read_csv(filename)\n",
    "    for i in range(len(canList)):\n",
    "        for j in range(len(canList)):\n",
    "            if i!=j:\n",
    "                e = euclidean_distances([data[canList[i]][:]], [data[canList[j]][:]])\n",
    "                dists[i,j] = e[0][0]\n",
    "    plt.xticks(np.arange(3), canList)\n",
    "    plt.yticks(np.arange(3), canList)\n",
    "    plt.imshow(dists)\n",
    "                \n",
    "    \n",
    "\n",
    "# Example Test Q3b\n",
    "findVoteDistancePlot('bush-gore-results-fl_demo.csv')\n"
   ]
  },
  {
   "cell_type": "markdown",
   "metadata": {
    "deletable": false,
    "editable": false,
    "nbgrader": {
     "grade": false,
     "locked": true,
     "solution": false
    }
   },
   "source": [
    "(c) Now, create the same type of distance heatmap for the following set of candidates: ['brow', 'harr', 'hage', 'buch', 'mcre', 'phil', 'moor']. For this part, consider the dataset in file 'bush-gore-results-fl_demo.csv'."
   ]
  },
  {
   "cell_type": "code",
   "execution_count": 47,
   "metadata": {},
   "outputs": [
    {
     "data": {
      "image/png": "[encoded data removed]",
      "text/plain": [
       "<Figure size 432x288 with 1 Axes>"
      ]
     },
     "metadata": {},
     "output_type": "display_data"
    }
   ],
   "source": [
    "import numpy as np\n",
    "def findVoteDistancePlot(filename):\n",
    "    canList = ['brow', 'harr', 'hage', 'buch', 'mcre', 'phil', 'moor']\n",
    "    dists = np.zeros((len(canList),len(canList)))\n",
    "    data = pd.read_csv(filename)\n",
    "    for i in range(len(canList)):\n",
    "        for j in range(len(canList)):\n",
    "            if i!=j:\n",
    "                e = euclidean_distances([data[canList[i]][:]], [data[canList[j]][:]])\n",
    "                dists[i,j] = e[0][0]\n",
    "    plt.xticks(np.arange(len(canList)), canList)\n",
    "    plt.yticks(np.arange(len(canList)), canList)\n",
    "    plt.imshow(dists)\n",
    "                \n",
    "    \n",
    "\n",
    "# Example Test Q3b\n",
    "findVoteDistancePlot('bush-gore-results-fl_demo.csv')\n"
   ]
  },
  {
   "cell_type": "code",
   "execution_count": null,
   "metadata": {
    "collapsed": true
   },
   "outputs": [],
   "source": []
  }
 ],
 "metadata": {
  "kernelspec": {
   "display_name": "Python 3 (ipykernel)",
   "language": "python",
   "name": "python3"
  },
  "language_info": {
   "codemirror_mode": {
    "name": "ipython",
    "version": 3
   },
   "file_extension": ".py",
   "mimetype": "text/x-python",
   "name": "python",
   "nbconvert_exporter": "python",
   "pygments_lexer": "ipython3",
   "version": "3.8.10"
  }
 },
 "nbformat": 4,
 "nbformat_minor": 2
}
