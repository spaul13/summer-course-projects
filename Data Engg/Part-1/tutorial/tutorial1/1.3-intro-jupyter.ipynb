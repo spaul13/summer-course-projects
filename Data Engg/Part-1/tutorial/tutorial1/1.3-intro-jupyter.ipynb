{
 "cells": [
  {
   "cell_type": "code",
   "execution_count": null,
   "metadata": {},
   "outputs": [],
   "source": [
    "print(2+3)\n",
    "print(2.0/3)\n",
    "x=4.5\n",
    "print(int(x))"
   ]
  },
  {
   "cell_type": "code",
   "execution_count": null,
   "metadata": {},
   "outputs": [],
   "source": [
    "x=['a','b','c']\n",
    "print(x[1])\n",
    "print(x[1:])\n",
    "x[1]='d'\n",
    "print(x)"
   ]
  },
  {
   "cell_type": "code",
   "execution_count": null,
   "metadata": {},
   "outputs": [],
   "source": [
    "d={'alice':1234, 'bob':5678, 'clare':9012}\n",
    "print(d['bob'])\n",
    "d['bob'] = 7777\n",
    "print(d)\n",
    "print(list(d.keys()))\n",
    "print(list(d.values()))\n",
    "del d['bob']\n",
    "d['david'] = 5555\n",
    "print(d)"
   ]
  },
  {
   "cell_type": "code",
   "execution_count": null,
   "metadata": {},
   "outputs": [],
   "source": [
    "x = 34 - 23            # A comment.\n",
    "y = 'Hello'            # Another one.\n",
    "z = 3.45    \n",
    "if z == 3.45 or y == 'Hello':\n",
    "    x = x + 1\n",
    "    y = y + ' World'   # String concat.\n",
    "print(x)\n",
    "print(y)"
   ]
  },
  {
   "cell_type": "code",
   "execution_count": null,
   "metadata": {},
   "outputs": [],
   "source": [
    "tu = (23, 'abc', 4.56, (2,3), 'def')#immutable\n",
    "li = [\"abc\", 34, 4.34, 23]#mutable\n",
    "st = 'Hello World'\n",
    "# indexing\n",
    "print(tu[0])\n",
    "print(li[1])\n",
    "print(st[3])\n",
    "# slicing\n",
    "print(st[3:7])"
   ]
  },
  {
   "cell_type": "code",
   "execution_count": null,
   "metadata": {},
   "outputs": [],
   "source": [
    "t = [1, 2, 4, 5]\n",
    "print(3 in t)\n",
    "print(4 in t)\n",
    "print(4 not in t)\n",
    "\n",
    "a = 'abcde'\n",
    "print('cd' in a)\n",
    "print('a' in a and 'c' in a)"
   ]
  },
  {
   "cell_type": "code",
   "execution_count": 8,
   "metadata": {},
   "outputs": [
    {
     "name": "stdout",
     "output_type": "stream",
     "text": [
      "[1, 11, 3, 4, 5, 'a']\n",
      "[1, 11, 'i', 3, 4, 5, 'a']\n",
      "[1, 11, 'i', 3, 4, 5, 'a', 9, 8, 7]\n"
     ]
    }
   ],
   "source": [
    "li = [1, 11, 3, 4, 5]\n",
    "li.append('a')\n",
    "print(li)\n",
    "li.insert(2, 'i')\n",
    "print(li)\n",
    "li.extend([9, 8, 7])\n",
    "print(li)"
   ]
  },
  {
   "cell_type": "code",
   "execution_count": 9,
   "metadata": {},
   "outputs": [
    {
     "name": "stdout",
     "output_type": "stream",
     "text": [
      "1\n",
      "2\n",
      "['a', 'c', 'b']\n",
      "[8, 6, 2, 5]\n",
      "[2, 5, 6, 8]\n"
     ]
    }
   ],
   "source": [
    "li = ['a', 'b', 'c', 'b']\n",
    "print(li.index('b'))\n",
    "print(li.count('b'))\n",
    "li.remove('b')\n",
    "print(li)\n",
    "li = [5, 2, 6, 8]\n",
    "li.reverse()\n",
    "print(li)\n",
    "li.sort()\n",
    "print(li)"
   ]
  },
  {
   "cell_type": "code",
   "execution_count": 10,
   "metadata": {},
   "outputs": [
    {
     "name": "stdout",
     "output_type": "stream",
     "text": [
      "X equals 2.\n",
      "This is outside the ‘if’.\n"
     ]
    }
   ],
   "source": [
    "x = 2\n",
    "\n",
    "if x == 3:\n",
    "    print(\"X equals 3.\")\n",
    "elif x == 2:\n",
    "    print(\"X equals 2.\")\n",
    "else:\n",
    "    print(\"X equals something else.\")\n",
    "print(\"This is outside the ‘if’.\")"
   ]
  },
  {
   "cell_type": "code",
   "execution_count": 11,
   "metadata": {},
   "outputs": [
    {
     "name": "stdout",
     "output_type": "stream",
     "text": [
      "3 still in the loop\n",
      "4 still in the loop\n"
     ]
    }
   ],
   "source": [
    "x = 3\n",
    "while x < 5:\n",
    "    print(x, \"still in the loop\")\n",
    "    x = x + 1\n",
    "x = 6\n",
    "while x < 5:\n",
    "    print(x, \"still in the loop\")"
   ]
  },
  {
   "cell_type": "code",
   "execution_count": 12,
   "metadata": {},
   "outputs": [
    {
     "name": "stdout",
     "output_type": "stream",
     "text": [
      "H\n",
      "E\n",
      "L\n",
      "L\n",
      "O\n",
      " \n",
      "W\n",
      "O\n",
      "R\n",
      "L\n",
      "D\n",
      "1\n",
      "2\n",
      "3\n",
      "4\n"
     ]
    }
   ],
   "source": [
    "for someChar in \"Hello World\":\n",
    "    print(someChar.upper())\n",
    "\n",
    "for (x, y) in [('a',1), ('b',2), ('c',3), ('d',4)]:\n",
    "    print(y)"
   ]
  },
  {
   "cell_type": "code",
   "execution_count": 13,
   "metadata": {},
   "outputs": [
    {
     "name": "stdout",
     "output_type": "stream",
     "text": [
      "Sam 4\n",
      "Mary 3\n",
      "Bill 2\n"
     ]
    }
   ],
   "source": [
    "ages = { \"Sam\" :4, \"Mary\" :3, \"Bill\" :2 }\n",
    "\n",
    "for name in ages.keys():\n",
    "    print(name, ages[name])"
   ]
  },
  {
   "cell_type": "code",
   "execution_count": 15,
   "metadata": {},
   "outputs": [
    {
     "name": "stdout",
     "output_type": "stream",
     "text": [
      "[5, 2, 6, 8]\n"
     ]
    }
   ],
   "source": [
    "import random\n",
    "\n",
    "li = [5, 2, 6, 8]\n",
    "random.shuffle(li)\n",
    "print(li)"
   ]
  },
  {
   "cell_type": "code",
   "execution_count": 16,
   "metadata": {},
   "outputs": [
    {
     "name": "stdout",
     "output_type": "stream",
     "text": [
      "initial age 21\n",
      "new age 18\n",
      "Bob 18\n"
     ]
    }
   ],
   "source": [
    "class student:\n",
    "    \"\"\"A class representing a student.\"\"\"\n",
    "    def __init__(self,n,a):\n",
    "        self.full_name = n\n",
    "        self.age = a\n",
    "    def get_age(self):\n",
    "        return self.age\n",
    "    def set_age(self,num):\n",
    "        self.age = num\n",
    "\n",
    "b = student(\"Bob\", 21)\n",
    "print('initial age', b.get_age())\n",
    "\n",
    "b.set_age(18)\n",
    "print('new age', b.get_age())\n",
    "\n",
    "print(b.full_name, b.age)\n"
   ]
  },
  {
   "cell_type": "code",
   "execution_count": 17,
   "metadata": {},
   "outputs": [
    {
     "name": "stdout",
     "output_type": "stream",
     "text": [
      "hello world\n",
      "this is a text file\n",
      "with some data\n",
      "that's all\n",
      "\n",
      "hello world\n",
      "\n",
      "this is a text file\n",
      "\n",
      "with some data\n",
      "\n",
      "that's all\n",
      "\n"
     ]
    }
   ],
   "source": [
    "fileptr = open('hw.txt')\n",
    "somestring = fileptr.read()   #reads in entire file\n",
    "print(somestring)\n",
    "fileptr.close()\n",
    "\n",
    "fileptr = open('hw.txt')\n",
    "for line in fileptr:         #loops over file one line at a time\n",
    "    print(line)\n",
    "fileptr.close()\n"
   ]
  },
  {
   "cell_type": "code",
   "execution_count": null,
   "metadata": {
    "collapsed": true
   },
   "outputs": [],
   "source": [
    "import csv  #csv file reader\n",
    "\n",
    "f = open('hw.txt', 'rt')  #r=read, t=text mode (default)\n",
    "reader = csv.reader(f,delimiter=' ')\n",
    "for row in reader:\n",
    "    print(len(row), row[0])                  \n",
    "f.close()\n"
   ]
  },
  {
   "cell_type": "code",
   "execution_count": null,
   "metadata": {
    "collapsed": true
   },
   "outputs": [],
   "source": [
    "import pandas as pd\n",
    "\n",
    "data = pd.read_csv('oscar_age_female.csv',sep=',')\n",
    "print(len(data))\n"
   ]
  },
  {
   "cell_type": "code",
   "execution_count": null,
   "metadata": {
    "collapsed": true
   },
   "outputs": [],
   "source": [
    "data"
   ]
  },
  {
   "cell_type": "code",
   "execution_count": null,
   "metadata": {
    "collapsed": true
   },
   "outputs": [],
   "source": [
    "data.describe()"
   ]
  },
  {
   "cell_type": "code",
   "execution_count": null,
   "metadata": {
    "collapsed": true
   },
   "outputs": [],
   "source": []
  }
 ],
 "metadata": {
  "kernelspec": {
   "display_name": "Python 3 [3.6]",
   "language": "python",
   "name": "python3"
  },
  "language_info": {
   "codemirror_mode": {
    "name": "ipython",
    "version": 3
   },
   "file_extension": ".py",
   "mimetype": "text/x-python",
   "name": "python",
   "nbconvert_exporter": "python",
   "pygments_lexer": "ipython3",
   "version": "3.6.4"
  }
 },
 "nbformat": 4,
 "nbformat_minor": 2
}
