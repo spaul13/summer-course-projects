{
 "cells": [
  {
   "cell_type": "code",
   "execution_count": 1,
   "metadata": {
    "collapsed": true
   },
   "outputs": [],
   "source": [
    "import re\n",
    "import math\n",
    "import string\n",
    "import numpy as np\n",
    "import matplotlib.pyplot as plt\n",
    "from sklearn import decomposition, preprocessing\n",
    "from sklearn.metrics.pairwise import euclidean_distances\n",
    "%matplotlib inline"
   ]
  },
  {
   "cell_type": "code",
   "execution_count": 2,
   "metadata": {
    "collapsed": true
   },
   "outputs": [],
   "source": [
    "def textFileToWordCounts(filename,minCount):\n",
    "\n",
    "    # read in document and create a vector of term counts\n",
    "    fileptr = open(filename)\n",
    "\n",
    "    # dictionary of words to counts\n",
    "    wordmap = {}\n",
    "\n",
    "    for line in fileptr:\n",
    "        for token in line.split(\" \"):\n",
    "            # convert to lowercase\n",
    "            lowertoken = token.lower()\n",
    "            # strip all non-character with regex\n",
    "            striptoken = re.sub(r\"[^a-z]\",\"\",lowertoken)\n",
    "            if len(striptoken)>0:\n",
    "                if striptoken not in wordmap.keys():\n",
    "                    wordmap[striptoken]=0\n",
    "                wordmap[striptoken]=wordmap[striptoken]+1\n",
    "    fileptr.close()\n",
    "    \n",
    "    # prune out words with fewer than minCount occurences\n",
    "    for token in list(wordmap.keys()):\n",
    "        if wordmap[token] < minCount:\n",
    "            del wordmap[token]\n",
    "    #return dictionary of counts\n",
    "    return wordmap\n"
   ]
  },
  {
   "cell_type": "code",
   "execution_count": 3,
   "metadata": {
    "scrolled": true
   },
   "outputs": [
    {
     "name": "stdout",
     "output_type": "stream",
     "text": [
      "55\n",
      "{'purdue': 28, 'university': 25, 'is': 10, 'a': 13, 'research': 17, 'in': 35, 'lafayette': 3, 'and': 37, 'the': 54, 'campus': 3, 'of': 30, 'was': 6, 'to': 12, 'science': 3, 'technology': 4, 'agriculture': 5, 'on': 4, 'with': 4, 'more': 5, 'than': 5, 'for': 3, 'medicine': 3, 'has': 6, 'student': 3, 'member': 3, 'big': 4, 'ten': 4, 'as': 4, 'association': 3, 'american': 3, 'universities': 4, 'among': 3, 'million': 5, 'from': 6, 'institutions': 3, 'by': 8, 'also': 4, 'areas': 3, 'are': 4, 'engineering': 3, 'manufacturing': 3, 'global': 4, 'foundation': 4, 'discovery': 3, 'park': 6, 'an': 4, 'including': 3, 'libraries': 4, 'books': 3, 'at': 4, 'press': 5, 'other': 3, 'print': 3, 'academic': 3, 'btaa': 4}\n"
     ]
    }
   ],
   "source": [
    "tmpWordMap = textFileToWordCounts('data/purdue.txt',3)\n",
    "print(len(tmpWordMap))\n",
    "print(tmpWordMap)"
   ]
  },
  {
   "cell_type": "code",
   "execution_count": 4,
   "metadata": {},
   "outputs": [
    {
     "name": "stdout",
     "output_type": "stream",
     "text": [
      "Num words 169, num files 6\n",
      "[[18.  3.  0.  0.  0.  0.  9.  0.  0.  0.  0. 45.]\n",
      " [10.  0.  0.  0.  0.  0.  0.  0.  0.  0.  0. 17.]\n",
      " [10.  3.  0.  3.  0.  0.  5.  0.  0.  4.  0. 25.]\n",
      " [14.  0.  3.  0.  0.  3.  3.  3.  3.  0.  4. 58.]\n",
      " [11.  5.  0.  0.  3.  0.  0.  0.  0.  0.  0. 28.]\n",
      " [13.  3.  0.  0.  5.  0.  4.  0.  3.  3.  4. 37.]]\n",
      "['uiuc.txt', 'kentucky.txt', 'osu.txt', 'cornell.txt', 'msu.txt', 'purdue.txt']\n"
     ]
    }
   ],
   "source": [
    "import os\n",
    "\n",
    "# calculate term vector for set of files\n",
    "directory = 'data'\n",
    "minThresh=3\n",
    "fileMap = {}\n",
    "uniqueWords = set()\n",
    "for filename in os.listdir(directory):\n",
    "    tmpWordMap = textFileToWordCounts(directory + '/' + filename, minThresh)\n",
    "    #print(len(tmpWordMap))\n",
    "    fileMap[filename] = tmpWordMap\n",
    "    # add words to overall list of words\n",
    "    for tmpWord in tmpWordMap.keys():\n",
    "        uniqueWords.add(tmpWord)\n",
    "\n",
    "# create a document term matrix for the set of files\n",
    "fileList = list(fileMap.keys())\n",
    "numFiles = len(fileList)\n",
    "numWords = len(uniqueWords)\n",
    "uniqueWordList = list(uniqueWords)\n",
    "uniqueWordList.sort()\n",
    "print('Num words ' + str(numWords) + ', num files '+ str(numFiles))\n",
    "\n",
    "# initialize matrix to zeros\n",
    "termMatrix = np.zeros((numFiles,numWords))\n",
    "# loop over each wordmap\n",
    "for file in fileList:\n",
    "    rowIdx = fileList.index(file)\n",
    "    tmpWordMap = fileMap[file]\n",
    "    for token in tmpWordMap.keys():\n",
    "        # find location of word\n",
    "        colIdx = uniqueWordList.index(token)\n",
    "        # update count for appropriate cell of matrix\n",
    "        termMatrix[rowIdx,colIdx]=tmpWordMap[token]\n",
    "print(termMatrix[:6,:12])\n",
    "print(fileList)"
   ]
  },
  {
   "cell_type": "code",
   "execution_count": 5,
   "metadata": {},
   "outputs": [
    {
     "data": {
      "text/plain": [
       "'a'"
      ]
     },
     "execution_count": 5,
     "metadata": {},
     "output_type": "execute_result"
    },
    {
     "data": {
      "image/png": "[encoded data removed]",
      "text/plain": [
       "<Figure size 432x288 with 1 Axes>"
      ]
     },
     "metadata": {},
     "output_type": "display_data"
    }
   ],
   "source": [
    "# visualize the data\n",
    "#plt.imshow(termMatrix)\n",
    "plt.imshow(termMatrix[:,:30])\n",
    "uniqueWordList[0]"
   ]
  },
  {
   "cell_type": "code",
   "execution_count": 6,
   "metadata": {
    "collapsed": true
   },
   "outputs": [],
   "source": [
    "# reduce dimensionality with PCA\n",
    "def applyPCA(data,numCmps):\n",
    "    # mean center data\n",
    "    X_scaled = preprocessing.scale(data, with_std=False) \n",
    "    # initialize PCA model\n",
    "    pca = decomposition.PCA(n_components=numCmps)\n",
    "    # fit PCA model with scaled data \n",
    "    X_trans = pca.fit_transform(X_scaled)\n",
    "    # return transformed data and explained variance\n",
    "    return [X_trans, pca.explained_variance_ratio_]"
   ]
  },
  {
   "cell_type": "code",
   "execution_count": 7,
   "metadata": {},
   "outputs": [
    {
     "data": {
      "text/plain": [
       "<matplotlib.collections.PathCollection at 0x7f391530f908>"
      ]
     },
     "execution_count": 7,
     "metadata": {},
     "output_type": "execute_result"
    },
    {
     "data": {
      "image/png": "[encoded data removed]",
      "text/plain": [
       "<Figure size 432x288 with 1 Axes>"
      ]
     },
     "metadata": {},
     "output_type": "display_data"
    }
   ],
   "source": [
    "[transData, exvar] = applyPCA(termMatrix,numFiles)\n",
    "# determine best number of dimensions\n",
    "cmpIdx=range(1,numFiles+1)\n",
    "plt.scatter(cmpIdx,exvar)"
   ]
  },
  {
   "cell_type": "code",
   "execution_count": 8,
   "metadata": {},
   "outputs": [
    {
     "data": {
      "image/png": "[encoded data removed]",
      "text/plain": [
       "<Figure size 432x288 with 1 Axes>"
      ]
     },
     "metadata": {},
     "output_type": "display_data"
    }
   ],
   "source": [
    "# plot transformed data, 1st two dimensions\n",
    "plt.scatter(transData[:,0],transData[:,1])\n",
    "# label points\n",
    "for file in fileList:\n",
    "    idx = fileList.index(file)\n",
    "    plt.text(transData[idx,0]+3,transData[idx,1]-2,file) "
   ]
  },
  {
   "cell_type": "code",
   "execution_count": 9,
   "metadata": {},
   "outputs": [
    {
     "data": {
      "text/plain": [
       "<matplotlib.image.AxesImage at 0x7f3915262550>"
      ]
     },
     "execution_count": 9,
     "metadata": {},
     "output_type": "execute_result"
    },
    {
     "data": {
      "image/png": "[encoded data removed]",
      "text/plain": [
       "<Figure size 432x288 with 1 Axes>"
      ]
     },
     "metadata": {},
     "output_type": "display_data"
    }
   ],
   "source": [
    "# normalize for document length\n",
    "normMatrix = termMatrix.copy()\n",
    "for i in range(termMatrix.shape[0]):\n",
    "    docLen = sum(termMatrix[i,:])\n",
    "    normMatrix[i,:] = termMatrix[i,:]/docLen\n",
    "plt.imshow(normMatrix[:,:30])"
   ]
  },
  {
   "cell_type": "code",
   "execution_count": 10,
   "metadata": {},
   "outputs": [
    {
     "data": {
      "image/png": "[encoded data removed]",
      "text/plain": [
       "<Figure size 432x288 with 1 Axes>"
      ]
     },
     "metadata": {},
     "output_type": "display_data"
    }
   ],
   "source": [
    "# apply PCA to normalized data\n",
    "[transNormData, exvar] = applyPCA(normMatrix,numFiles)\n",
    "\n",
    "plt.scatter(transNormData[:,0],transNormData[:,1])\n",
    "# label points\n",
    "for file in fileList:\n",
    "    idx = fileList.index(file)\n",
    "    plt.text(transNormData[idx,0],transNormData[idx,1],file+'('+str(idx)+')') "
   ]
  },
  {
   "cell_type": "code",
   "execution_count": 11,
   "metadata": {},
   "outputs": [
    {
     "data": {
      "text/plain": [
       "<matplotlib.image.AxesImage at 0x7f3915197e48>"
      ]
     },
     "execution_count": 11,
     "metadata": {},
     "output_type": "execute_result"
    },
    {
     "data": {
      "image/png": "[encoded data removed]",
      "text/plain": [
       "<Figure size 432x288 with 1 Axes>"
      ]
     },
     "metadata": {},
     "output_type": "display_data"
    }
   ],
   "source": [
    "# calculate distances between documents\n",
    "dists = euclidean_distances(transNormData)\n",
    "plt.imshow(dists,cmap='RdBu')"
   ]
  },
  {
   "cell_type": "code",
   "execution_count": 12,
   "metadata": {},
   "outputs": [
    {
     "data": {
      "text/plain": [
       "<matplotlib.image.AxesImage at 0x7f3915178898>"
      ]
     },
     "execution_count": 12,
     "metadata": {},
     "output_type": "execute_result"
    },
    {
     "data": {
      "image/png": "[encoded data removed]",
      "text/plain": [
       "<Figure size 432x288 with 1 Axes>"
      ]
     },
     "metadata": {},
     "output_type": "display_data"
    }
   ],
   "source": [
    "# multiply term frequency by inverse document frequency \n",
    "# IDF(t) = log(Num of docs / Num of docs with term t in it)\n",
    "tfidfMatrix = normMatrix.copy()\n",
    "for j in range(normMatrix.shape[1]):\n",
    "    docswterm = 0\n",
    "    for i in range(numFiles):\n",
    "        if normMatrix[i,j]>0:\n",
    "            docswterm = docswterm+1\n",
    "    termidf = 0\n",
    "    if docswterm > 0:\n",
    "        #print(str(j) + ':' + str(docswterm))\n",
    "        termidf = math.log(numFiles/docswterm)\n",
    "    #print(str(j) + ':' + str(termidf))\n",
    "    tfidfMatrix[:,j] = normMatrix[:,j]*termidf\n",
    "plt.imshow(tfidfMatrix[:,:30])"
   ]
  },
  {
   "cell_type": "code",
   "execution_count": 13,
   "metadata": {},
   "outputs": [
    {
     "data": {
      "image/png": "[encoded data removed]",
      "text/plain": [
       "<Figure size 432x288 with 1 Axes>"
      ]
     },
     "metadata": {},
     "output_type": "display_data"
    }
   ],
   "source": [
    "# apply PCA to normalized data\n",
    "[transTFIDFData, exvar] = applyPCA(tfidfMatrix,numFiles)\n",
    "\n",
    "plt.scatter(transTFIDFData[:,0],transTFIDFData[:,1])\n",
    "# label points\n",
    "for file in fileList:\n",
    "    idx = fileList.index(file)\n",
    "    plt.text(transTFIDFData[idx,0],transTFIDFData[idx,1],file) "
   ]
  },
  {
   "cell_type": "code",
   "execution_count": 14,
   "metadata": {},
   "outputs": [
    {
     "data": {
      "text/plain": [
       "<matplotlib.image.AxesImage at 0x7f39150ba278>"
      ]
     },
     "execution_count": 14,
     "metadata": {},
     "output_type": "execute_result"
    },
    {
     "data": {
      "image/png": "[encoded data removed]",
      "text/plain": [
       "<Figure size 432x288 with 1 Axes>"
      ]
     },
     "metadata": {},
     "output_type": "display_data"
    }
   ],
   "source": [
    "# calculate distances between documents\n",
    "dists = euclidean_distances(transTFIDFData)\n",
    "plt.imshow(dists,cmap='RdBu')"
   ]
  },
  {
   "cell_type": "code",
   "execution_count": 15,
   "metadata": {},
   "outputs": [
    {
     "name": "stdout",
     "output_type": "stream",
     "text": [
      "0.0018221946278440544\n",
      "consortium\n",
      "[0.         0.         0.         0.         0.02133047 0.        ]\n",
      "cornell\n",
      "[0.         0.         0.         0.09298051 0.         0.        ]\n",
      "hockey\n",
      "[0.        0.        0.0231943 0.        0.        0.       ]\n",
      "honors\n",
      "[0.         0.02559656 0.         0.         0.         0.        ]\n",
      "illinois\n",
      "[0.0832602 0.        0.        0.        0.        0.       ]\n",
      "it\n",
      "[0.         0.         0.03479145 0.         0.         0.        ]\n",
      "kentucky\n",
      "[0.         0.06399141 0.         0.         0.         0.        ]\n",
      "michigan\n",
      "[0.         0.         0.         0.         0.06399141 0.        ]\n",
      "msu\n",
      "[0.         0.         0.         0.         0.04266094 0.        ]\n",
      "new\n",
      "[0.         0.         0.         0.02261688 0.         0.        ]\n",
      "ohio\n",
      "[0.         0.         0.10437434 0.         0.         0.        ]\n",
      "osu\n",
      "[0.        0.        0.0231943 0.        0.        0.       ]\n",
      "press\n",
      "[0.         0.         0.         0.         0.         0.02045388]\n",
      "programs\n",
      "[0.01021015 0.03531254 0.         0.         0.         0.        ]\n",
      "purdue\n",
      "[0.        0.        0.        0.        0.        0.1145417]\n",
      "spartans\n",
      "[0.         0.         0.         0.         0.02133047 0.        ]\n",
      "students\n",
      "[0.         0.03839485 0.         0.         0.         0.        ]\n"
     ]
    }
   ],
   "source": [
    "# find words with largest variance\n",
    "vars = []\n",
    "for j in range(tfidfMatrix.shape[1]):\n",
    "    tmpvar = np.var(tfidfMatrix[:,j])\n",
    "    vars.append(tmpvar)\n",
    "print(max(vars))\n",
    "thresh = np.percentile(vars,90)\n",
    "for j in range(tfidfMatrix.shape[1]):\n",
    "    if vars[j] > thresh:\n",
    "        print(uniqueWordList[j])\n",
    "        print(tfidfMatrix[:,j])"
   ]
  },
  {
   "cell_type": "code",
   "execution_count": null,
   "metadata": {
    "collapsed": true
   },
   "outputs": [],
   "source": []
  }
 ],
 "metadata": {
  "kernelspec": {
   "display_name": "Python 3 [3.6]",
   "language": "python",
   "name": "python3"
  },
  "language_info": {
   "codemirror_mode": {
    "name": "ipython",
    "version": 3
   },
   "file_extension": ".py",
   "mimetype": "text/x-python",
   "name": "python",
   "nbconvert_exporter": "python",
   "pygments_lexer": "ipython3",
   "version": "3.6.4"
  }
 },
 "nbformat": 4,
 "nbformat_minor": 2
}
